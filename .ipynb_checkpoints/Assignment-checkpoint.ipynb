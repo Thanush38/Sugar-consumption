{
 "cells": [
  {
   "cell_type": "markdown",
   "id": "fcafbc69",
   "metadata": {},
   "source": [
    "# Servings of Sugar-Sweetened Beverage consumed daily\n",
    "# Thananjaya Sharma Dinesh SN:100861759"
   ]
  },
  {
   "cell_type": "markdown",
   "id": "d13e2800",
   "metadata": {},
   "source": [
    "\n",
    "In my analysis I will analyze into the patterns of sugar-sweetened beverage consumption on a daily basis. The data I will be analyzing for adolescents was taken in 2012, and for adults and children the data is from the year 2013. I will delve in deeper whether being obese has anything to do with drinking more beverages as well as if more income in adolescents and adults has to do with more drinking. "
   ]
  },
  {
   "cell_type": "markdown",
   "id": "7b3b734d",
   "metadata": {},
   "source": [
    "### importing Modules"
   ]
  },
  {
   "cell_type": "code",
   "execution_count": 1,
   "id": "d98e661f",
   "metadata": {},
   "outputs": [],
   "source": [
    "\n",
    "import pandas as pd\n",
    "import numpy as np\n",
    "import matplotlib.pyplot as plt\n",
    "import seaborn as sns\n",
    "from IPython.display import display\n",
    "import os"
   ]
  },
  {
   "cell_type": "markdown",
   "id": "c7004409",
   "metadata": {},
   "source": [
    "##### loading data \n",
    "Please check that sugar.csv is in the same directory"
   ]
  },
  {
   "cell_type": "code",
   "execution_count": 2,
   "id": "b5c83f70",
   "metadata": {},
   "outputs": [],
   "source": [
    "# Read the data\n",
    "sugar = pd.read_csv(\"sugar.csv\")\n",
    "#renaming the columns\n",
    "sugar.columns = ['year', 'Age Group', 'Category', 'Type', 'Average servings per day']"
   ]
  },
  {
   "cell_type": "markdown",
   "id": "79ec06dc",
   "metadata": {},
   "source": [
    "cleaning data by removing all null values"
   ]
  },
  {
   "cell_type": "markdown",
   "id": "caca61d9",
   "metadata": {},
   "source": [
    "comparing the relationshi[] of being obese to drinking"
   ]
  },
  {
   "cell_type": "code",
   "execution_count": 3,
   "id": "26c8ba7f",
   "metadata": {},
   "outputs": [
    {
     "ename": "TypeError",
     "evalue": "'module' object is not callable",
     "output_type": "error",
     "traceback": [
      "\u001b[0;31m---------------------------------------------------------------------------\u001b[0m",
      "\u001b[0;31mTypeError\u001b[0m                                 Traceback (most recent call last)",
      "Input \u001b[0;32mIn [3]\u001b[0m, in \u001b[0;36m<cell line: 3>\u001b[0;34m()\u001b[0m\n\u001b[1;32m      1\u001b[0m \u001b[38;5;66;03m#displaying the data\u001b[39;00m\n\u001b[1;32m      2\u001b[0m \u001b[38;5;66;03m# get all overweight status data\u001b[39;00m\n\u001b[0;32m----> 3\u001b[0m p \u001b[38;5;241m=\u001b[39m \u001b[43msns\u001b[49m\u001b[43m(\u001b[49m\u001b[43mdata\u001b[49m\u001b[38;5;241;43m=\u001b[39;49m\u001b[43msugar\u001b[49m\u001b[43m,\u001b[49m\u001b[43m \u001b[49m\u001b[43mx\u001b[49m\u001b[38;5;241;43m=\u001b[39;49m\u001b[38;5;124;43m\"\u001b[39;49m\u001b[38;5;124;43mOverweight\u001b[39;49m\u001b[38;5;124;43m\"\u001b[39;49m\u001b[43m,\u001b[49m\u001b[43m \u001b[49m\u001b[43my\u001b[49m\u001b[38;5;241;43m=\u001b[39;49m\u001b[38;5;124;43m\"\u001b[39;49m\u001b[38;5;124;43mAverage servings per day\u001b[39;49m\u001b[38;5;124;43m\"\u001b[39;49m\u001b[43m,\u001b[49m\u001b[43m \u001b[49m\u001b[43mhue\u001b[49m\u001b[38;5;241;43m=\u001b[39;49m\u001b[38;5;124;43m\"\u001b[39;49m\u001b[38;5;124;43mCategory\u001b[39;49m\u001b[38;5;124;43m\"\u001b[39;49m\u001b[43m,\u001b[49m\u001b[43m \u001b[49m\u001b[43mkind\u001b[49m\u001b[38;5;241;43m=\u001b[39;49m\u001b[38;5;124;43m\"\u001b[39;49m\u001b[38;5;124;43mbar\u001b[39;49m\u001b[38;5;124;43m\"\u001b[39;49m\u001b[43m)\u001b[49m\n",
      "\u001b[0;31mTypeError\u001b[0m: 'module' object is not callable"
     ]
    }
   ],
   "source": [
    "#displaying the data\n",
    "# get all overweight status data\n",
    "p = sns(data=sugar, x=\"Overweight\", y=\"Average servings per day\", hue=\"Category\", kind=\"bar\")\n",
    "# display(overweight)"
   ]
  },
  {
   "cell_type": "code",
   "execution_count": 4,
   "id": "0e749691",
   "metadata": {},
   "outputs": [
    {
     "name": "stdout",
     "output_type": "stream",
     "text": [
      "hello\n",
      "hello\n",
      "hello\n"
     ]
    },
    {
     "ename": "TypeError",
     "evalue": "'module' object is not callable",
     "output_type": "error",
     "traceback": [
      "\u001b[0;31m---------------------------------------------------------------------------\u001b[0m",
      "\u001b[0;31mTypeError\u001b[0m                                 Traceback (most recent call last)",
      "Input \u001b[0;32mIn [4]\u001b[0m, in \u001b[0;36m<cell line: 9>\u001b[0;34m()\u001b[0m\n\u001b[1;32m      6\u001b[0m         \u001b[38;5;28mprint\u001b[39m(\u001b[38;5;124m\"\u001b[39m\u001b[38;5;124mhello\u001b[39m\u001b[38;5;124m\"\u001b[39m)\n\u001b[1;32m      7\u001b[0m         x\u001b[38;5;241m.\u001b[39mappend(group)\n\u001b[0;32m----> 9\u001b[0m p \u001b[38;5;241m=\u001b[39m \u001b[43msns\u001b[49m\u001b[43m(\u001b[49m\u001b[43mdata\u001b[49m\u001b[38;5;241;43m=\u001b[39;49m\u001b[43mx\u001b[49m\u001b[43m,\u001b[49m\u001b[43m \u001b[49m\u001b[43mx\u001b[49m\u001b[38;5;241;43m=\u001b[39;49m\u001b[38;5;124;43m\"\u001b[39;49m\u001b[38;5;124;43mOverweight\u001b[39;49m\u001b[38;5;124;43m\"\u001b[39;49m\u001b[43m,\u001b[49m\u001b[43m \u001b[49m\u001b[43my\u001b[49m\u001b[38;5;241;43m=\u001b[39;49m\u001b[38;5;124;43m\"\u001b[39;49m\u001b[38;5;124;43mAverage servings per day\u001b[39;49m\u001b[38;5;124;43m\"\u001b[39;49m\u001b[43m,\u001b[49m\u001b[43m \u001b[49m\u001b[43mhue\u001b[49m\u001b[38;5;241;43m=\u001b[39;49m\u001b[38;5;124;43m\"\u001b[39;49m\u001b[38;5;124;43mCategory\u001b[39;49m\u001b[38;5;124;43m\"\u001b[39;49m\u001b[43m,\u001b[49m\u001b[43m \u001b[49m\u001b[43mkind\u001b[49m\u001b[38;5;241;43m=\u001b[39;49m\u001b[38;5;124;43m\"\u001b[39;49m\u001b[38;5;124;43mbar\u001b[39;49m\u001b[38;5;124;43m\"\u001b[39;49m\u001b[43m)\u001b[49m\n\u001b[1;32m     10\u001b[0m display(overweight)\n",
      "\u001b[0;31mTypeError\u001b[0m: 'module' object is not callable"
     ]
    }
   ],
   "source": [
    "# group all overweight status data by age group\n",
    "overweight = sugar.groupby(['Category', 'Age Group'])\n",
    "x=[]\n",
    "for name, group in overweight:\n",
    "    if name[0] == 'Overweight Status':\n",
    "        print(\"hello\")\n",
    "        x.append(group)\n",
    "\n",
    "p = sns(data=x, x=\"Overweight\", y=\"Average servings per day\", hue=\"Category\", kind=\"bar\")\n",
    "display(overweight)\n"
   ]
  },
  {
   "cell_type": "code",
   "execution_count": null,
   "id": "bcbc5a04",
   "metadata": {},
   "outputs": [],
   "source": []
  },
  {
   "cell_type": "code",
   "execution_count": null,
   "id": "31442786",
   "metadata": {},
   "outputs": [],
   "source": []
  },
  {
   "cell_type": "code",
   "execution_count": null,
   "id": "c0cfa0aa",
   "metadata": {},
   "outputs": [],
   "source": []
  }
 ],
 "metadata": {
  "kernelspec": {
   "display_name": "Python 3 (ipykernel)",
   "language": "python",
   "name": "python3"
  },
  "language_info": {
   "codemirror_mode": {
    "name": "ipython",
    "version": 3
   },
   "file_extension": ".py",
   "mimetype": "text/x-python",
   "name": "python",
   "nbconvert_exporter": "python",
   "pygments_lexer": "ipython3",
   "version": "3.9.12"
  }
 },
 "nbformat": 4,
 "nbformat_minor": 5
}
